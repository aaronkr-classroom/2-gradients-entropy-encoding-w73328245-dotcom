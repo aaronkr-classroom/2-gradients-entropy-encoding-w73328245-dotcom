{
 "cells": [
  {
   "cell_type": "markdown",
   "id": "1dca11dc",
   "metadata": {},
   "source": [
    "# stats 통계 예시\n",
    "\n",
    "1. 기본 통계\n",
    "2. 확률 분포\n",
    "3. 분류기 성능\n",
    "4. 성능 지표\n",
    "5. 해석"
   ]
  },
  {
   "cell_type": "code",
   "execution_count": null,
   "id": "e42c2b95",
   "metadata": {},
   "outputs": [],
   "source": [
    "# 라이브러리 불러오기\n",
    "import numpy as np\n",
    "import matplotlib.pyplot as plt\n",
    "from sklearn.metrics import confusion_matrix, ConfusionMatrixDisplay\n",
    "from sklearn.metrics import accuracy_score, precision_score, recall_score, f1_score\n",
    "from scipy import stats\n"
   ]
  },
  {
   "cell_type": "code",
   "execution_count": null,
   "id": "d401ddd5",
   "metadata": {},
   "outputs": [],
   "source": [
    "# 1. 기본 통계\n",
    "data = [1, 3, 4, 4, 13]\n",
    "\n",
    "mean   = np.mean(data)\n",
    "median = np.median(data)\n",
    "mode   = stats.mode(data, keepdims = True)[0][0]\n",
    "\n",
    "print(\"Data:\", data)\n",
    "print(\"Mean:\", mean)\n",
    "print(\"Median:\", median)\n",
    "print(\"Mode:\", mode)\n",
    "print()\n"
   ]
  },
  {
   "cell_type": "code",
   "execution_count": null,
   "id": "e32851fe",
   "metadata": {},
   "outputs": [],
   "source": [
    "# 2. 확률 분포\n",
    "uniform = np.random.uniform(low = 0, high = 1, size = 1000 ) # 균등 분포\n",
    "normal = np.random.normal(loc = 0, scale = 1, size = 1000 ) # 정규 분포\n",
    "bernoulli = np.random.binomial(n =1, p =0.5, size = 1000 ) # 베르누이 분포 (장리 던지기)\n",
    "\n",
    "# 시각화\n",
    "plt.figure(figsize = (12, 4))\n",
    "\n",
    "plt.subplot(1,3,1)\n",
    "plt.hist(uniform, bins = 20, color ='skyblue', edgecolor = 'black')\n",
    "plt.title(\"Uniform (0~1)\")\n",
    "\n",
    "plt.subplot(1,3,2)\n",
    "plt.hist(uniform, bins = 20, color ='skyblue', edgecolor = 'black')\n",
    "plt.title(\"Normal\")\n",
    "\n",
    "plt.subplot(1,3,3)\n",
    "plt.hist(uniform, bins = 20, color ='skyblue', edgecolor = 'black')\n",
    "plt.title(\"bernoulli (p = 0.5)\")\n",
    "\n",
    "plt.tight_layout()\n",
    "plt.show()\n",
    "\n",
    "# 3. 분류기 성능 \n",
    "\n",
    "# 가상의 의료 테스트 시뮬레이션\n",
    "# 실제 레이블 (1 = 질병 있음, 0 = 건강)\n",
    "y_true = np.array([1,1,1,1,0,0,0,0,0,0])\n",
    "\n",
    "# 예측 결과\n",
    "y_pred = np.array([1,0,1,0,1,0,0,1,0])\n",
    "\n",
    "# 혼동 행렬\n",
    "cm = confusion_matrix(y_true, y_pred)\n",
    "disp = ConfusionMatrixDisplay(\n",
    "    confusion_matrix= cm,\n",
    "    display_labels =  cm,\n",
    "    display_labels = [\"Healthy(0)\", \"Sick(1)\"]\n",
    ")\n",
    "disp.plot(cmap=\"Blues\")\n",
    "plt.title(\"Confusion Matrix\")\n",
    "\n",
    "\n",
    "\n",
    "# 4. 성능 지표\n",
    "\n",
    "accuracy = accuracy_score(y_true, y_pred) #정확도\n",
    "precision = precision_score(y_true, y_pred) #정밀도\n",
    "recall = recall_score(y_true, y_pred) # 재현율\n",
    "f1_score = f1_score(y_true, y_pred) # (정밀도 및 재현율)\n",
    "\n",
    "print(\"Acc:\", accuracy)\n",
    "print(\"Prec:\", precision)\n",
    "print(\"Recall:\", recall)\n",
    "print(\"F1:\", f1_score)\n",
    "\n"
   ]
  },
  {
   "cell_type": "markdown",
   "id": "b19bc969",
   "metadata": {},
   "source": [
    "### 해석 \n",
    "\n",
    "**1. Accurancy: 전체 예측 중 얼마나 맞췄는가?**\n",
    "\n",
    "**2. Precision: 양성이라고 한 것 중 실제 양성이 얼마나 되는가?**\n",
    "\n",
    "**3. Recall: 실제 양성 중 얼마나 마췄는가?**\n",
    "\n",
    "**4. F1: Precision과 Recall의 균형을 나타냅니다.**"
   ]
  }
 ],
 "metadata": {
  "language_info": {
   "name": "python"
  }
 },
 "nbformat": 4,
 "nbformat_minor": 5
}
